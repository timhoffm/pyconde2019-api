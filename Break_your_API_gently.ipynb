{
 "cells": [
  {
   "cell_type": "markdown",
   "metadata": {
    "slideshow": {
     "slide_type": "slide"
    }
   },
   "source": [
    "# Break your API gently - or not at all\n",
    "\n",
    "PyCon.DE 2019, Berlin\n",
    "\n",
    "### Tim Hoffmann\n",
    "\n",
    "@timhoffm\n",
    "\n",
    "https://github.com/timhoffm/pyconde2019-api\n",
    "\n",
    "<table style=\"border: 0;\">\n",
    "<tr style=\"background: #ffffff;\"><td><img src=\"images/zeiss_logo.png\" height=60 width=60 /></td><td>Carl Zeiss Semiconductor Manufacturing Technologies GmbH</td></tr>\n",
    "<tr style=\"background: #ffffff;\"><td><img src=\"images/matplotlib_logo.png\" height=60 width=60 /></td><td>Matplotlib Core Developer</td></tr>\n",
    "</table>\n"
   ]
  },
  {
   "cell_type": "markdown",
   "metadata": {
    "slideshow": {
     "slide_type": "slide"
    }
   },
   "source": [
    "Code that is used by others defines an interface.\n",
    "\n",
    "Changing that interface breaks other peoples code."
   ]
  },
  {
   "cell_type": "markdown",
   "metadata": {
    "slideshow": {
     "slide_type": "slide"
    }
   },
   "source": [
    "# Preventive Measures"
   ]
  },
  {
   "cell_type": "markdown",
   "metadata": {
    "slideshow": {
     "slide_type": "slide"
    }
   },
   "source": [
    "## Reduce the API footprint\n",
    "\n",
    "- Mark functions, methods, attributes as private:\n",
    "  ~~~\n",
    "  _internal\n",
    "  ~~~\n",
    "\n",
    "- Use keyword-only arguments:\n",
    "  ~~~\n",
    "  def is_close_to_int(x, *, atol=1e-10):\n",
    "  ~~~\n",
    "\n",
    "- Don't write code that is not needed (YAGNI)"
   ]
  },
  {
   "cell_type": "markdown",
   "metadata": {
    "slideshow": {
     "slide_type": "slide"
    }
   },
   "source": [
    "## Do it right from the beginning\n",
    "\n",
    "***You know how you should write code.***\n",
    "\n",
    "- Clean code\n",
    "  \n",
    "- Design patterns\n",
    "\n",
    "- ...\n",
    "\n",
    "- Naming!"
   ]
  },
  {
   "cell_type": "markdown",
   "metadata": {
    "slideshow": {
     "slide_type": "subslide"
    }
   },
   "source": [
    "### Choose meaningfull and precise names"
   ]
  },
  {
   "cell_type": "code",
   "execution_count": null,
   "metadata": {
    "slideshow": {
     "slide_type": "-"
    }
   },
   "outputs": [],
   "source": [
    "def use(arg):"
   ]
  },
  {
   "cell_type": "code",
   "execution_count": null,
   "metadata": {
    "slideshow": {
     "slide_type": "-"
    }
   },
   "outputs": [],
   "source": [
    "def use(backend):"
   ]
  },
  {
   "cell_type": "code",
   "execution_count": null,
   "metadata": {
    "slideshow": {
     "slide_type": "-"
    }
   },
   "outputs": [],
   "source": [
    "def set_backend(name):"
   ]
  },
  {
   "cell_type": "markdown",
   "metadata": {
    "slideshow": {
     "slide_type": "subslide"
    }
   },
   "source": [
    "### Each parameter should describe exactly one logical concept\n"
   ]
  },
  {
   "cell_type": "code",
   "execution_count": null,
   "metadata": {
    "slideshow": {
     "slide_type": "-"
    }
   },
   "outputs": [],
   "source": [
    "plot_image(data, cmin=-2, cmax=2)"
   ]
  },
  {
   "cell_type": "code",
   "execution_count": null,
   "metadata": {
    "slideshow": {
     "slide_type": "-"
    }
   },
   "outputs": [],
   "source": [
    "plot_image(data, clim=(-2, 2))"
   ]
  },
  {
   "cell_type": "code",
   "execution_count": null,
   "metadata": {
    "slideshow": {
     "slide_type": "-"
    }
   },
   "outputs": [],
   "source": [
    "plot_image(data, clim='symmetric')"
   ]
  },
  {
   "cell_type": "markdown",
   "metadata": {
    "slideshow": {
     "slide_type": "subslide"
    }
   },
   "source": [
    "### Each parameter should describe exactly one logical concept\n",
    "\n",
    "![](images/legend_textcolor.png)\n",
    "\n",
    "  ~~~\n",
    "  legend(match_textcolor=True)\n",
    "  \n",
    "  legend(textcolor='match')\n",
    "  \n",
    "  legend(textcolor='artist')\n",
    "  \n",
    "  legend(textcolor='linecolor')\n",
    "  ~~~\n",
    "\n",
    "  https://github.com/matplotlib/matplotlib/issues/10720"
   ]
  },
  {
   "cell_type": "markdown",
   "metadata": {
    "slideshow": {
     "slide_type": "slide"
    }
   },
   "source": [
    "## Types of API changes\n",
    "\n",
    "![](images\\break_types.png)"
   ]
  },
  {
   "cell_type": "markdown",
   "metadata": {
    "slideshow": {
     "slide_type": "slide"
    }
   },
   "source": [
    "## Non-breaking changes: Extensions\n",
    "\n",
    "- Add classes, methods functions, attributes  \n",
    "\n",
    "- Append parameters with default values\n",
    "  ~~~\n",
    "  def func(a) --> def func(a, b=None)\n",
    "  ~~~  \n",
    "  \n",
    "- Insert into keyword-only parameters  \n",
    "\n",
    "- Reorder keyword-only parameters"
   ]
  },
  {
   "cell_type": "code",
   "execution_count": null,
   "metadata": {
    "slideshow": {
     "slide_type": "skip"
    }
   },
   "outputs": [],
   "source": [
    "import warnings\n",
    "import pandas\n",
    "val = 1"
   ]
  },
  {
   "cell_type": "markdown",
   "metadata": {
    "slideshow": {
     "slide_type": "slide"
    }
   },
   "source": [
    "### Keyword-only parameters\n",
    "\n",
    "***Use whenever feasible***\n",
    "\n",
    "- More readable code\n",
    "  \n",
    "- More freedom to change the API without breaking it"
   ]
  },
  {
   "cell_type": "code",
   "execution_count": null,
   "metadata": {
    "slideshow": {
     "slide_type": "-"
    }
   },
   "outputs": [],
   "source": [
    "list.sort(cmp)"
   ]
  },
  {
   "cell_type": "code",
   "execution_count": null,
   "metadata": {
    "slideshow": {
     "slide_type": "-"
    }
   },
   "outputs": [],
   "source": [
    "list.sort(cmp=None, *, key=None)"
   ]
  },
  {
   "cell_type": "code",
   "execution_count": null,
   "metadata": {
    "slideshow": {
     "slide_type": "-"
    }
   },
   "outputs": [],
   "source": [
    "list.sort(*, key=None)"
   ]
  },
  {
   "cell_type": "code",
   "execution_count": null,
   "metadata": {
    "slideshow": {
     "slide_type": "skip"
    }
   },
   "outputs": [],
   "source": [
    "def is_close_to_int(x, atol=1e-10):\n",
    "    \n",
    "is_close_to_int(val, 1e-8)\n",
    "\n",
    "\n",
    "def is_close_to_int(x, atol=1e-10, rtol=1-e7):"
   ]
  },
  {
   "cell_type": "code",
   "execution_count": null,
   "metadata": {
    "slideshow": {
     "slide_type": "skip"
    }
   },
   "outputs": [],
   "source": [
    "def is_close_to_int(x, *, atol=1e-10):\n",
    "    pass\n",
    "    \n",
    "is_close_to_int(val, atol=1e-8)\n",
    "\n",
    "\n",
    "def is_close_to_int(x, *, rtol=1-e7, atol=1e-10):\n",
    "    pass"
   ]
  },
  {
   "cell_type": "markdown",
   "metadata": {
    "slideshow": {
     "slide_type": "slide"
    }
   },
   "source": [
    "## Breaking API changes"
   ]
  },
  {
   "cell_type": "markdown",
   "metadata": {
    "slideshow": {
     "slide_type": "slide"
    }
   },
   "source": [
    "### Deprecation\n",
    "\n",
    "- Document in the release notes   \n",
    "\n",
    "- Warn when deprecated API is used:\n",
    "\n",
    "  ~~~\n",
    "  warnings.warn('X is deprecated. Use Y instead.',\n",
    "                DeprecationWarning)`\n",
    "  ~~~\n",
    "\n",
    "Warning types:\n",
    "\n",
    "| Type                        | What for | Target audience                          |\n",
    "|:--------------------------- |:-------- |:---------------------------------------- |\n",
    "| `DeprecationWarning`        | deprecated features | developers using your library            |\n",
    "| `FutureWarning`             | deprecated features | end users                                |\n",
    "| `PendingDeprecationWarning` | warnings about features that will be deprecated in the future | developers using your library particularly interested in forward-compatibility |\n",
    "\n",
    "\n",
    "Further details:\n",
    "\n",
    "- [Warning categories](https://docs.python.org/3/library/warnings.html#warning-categories)\n",
    "\n",
    "- [PEP-0565](https://www.python.org/dev/peps/pep-0565/)"
   ]
  },
  {
   "cell_type": "markdown",
   "metadata": {
    "slideshow": {
     "slide_type": "slide"
    }
   },
   "source": [
    "## Renaming a function"
   ]
  },
  {
   "cell_type": "code",
   "execution_count": null,
   "metadata": {
    "slideshow": {
     "slide_type": "-"
    }
   },
   "outputs": [],
   "source": [
    "def func(arg):\n",
    "    ..."
   ]
  },
  {
   "cell_type": "code",
   "execution_count": null,
   "metadata": {
    "slideshow": {
     "slide_type": "-"
    }
   },
   "outputs": [],
   "source": [
    "def new_func(arg):\n",
    "    ...\n",
    "    \n",
    "def func(arg):\n",
    "    warnings.warn('func() is deprecated. Use new_func() instead.',\n",
    "                  DeprecationWarning)\n",
    "    return new_func(arg)"
   ]
  },
  {
   "cell_type": "markdown",
   "metadata": {
    "slideshow": {
     "slide_type": "slide"
    }
   },
   "source": [
    "## Renaming a class"
   ]
  },
  {
   "cell_type": "code",
   "execution_count": null,
   "metadata": {
    "slideshow": {
     "slide_type": "-"
    }
   },
   "outputs": [],
   "source": [
    "class A:\n",
    "    ..."
   ]
  },
  {
   "cell_type": "code",
   "execution_count": null,
   "metadata": {
    "slideshow": {
     "slide_type": "-"
    }
   },
   "outputs": [],
   "source": [
    "class B:\n",
    "    ...\n",
    "\n",
    "class A(B):\n",
    "    def __init__(self, arg):\n",
    "        warnings.warn(\"Class 'A' is deprecated. Use class 'B' instead.\",\n",
    "                      DeprecationWarning)\n",
    "        super().__init__(arg)"
   ]
  },
  {
   "cell_type": "markdown",
   "metadata": {
    "slideshow": {
     "slide_type": "slide"
    }
   },
   "source": [
    "## Renaming an attribute"
   ]
  },
  {
   "cell_type": "code",
   "execution_count": null,
   "metadata": {
    "slideshow": {
     "slide_type": "-"
    }
   },
   "outputs": [],
   "source": [
    "class Circle:\n",
    "    def __init__(self, size):\n",
    "        self.size = size"
   ]
  },
  {
   "cell_type": "code",
   "execution_count": null,
   "metadata": {
    "slideshow": {
     "slide_type": "-"
    }
   },
   "outputs": [],
   "source": [
    "class Circle:\n",
    "    def __init__(self, size):\n",
    "        self.radius = size\n",
    "        \n",
    "    @property\n",
    "    def size(self):\n",
    "        warnings.warn(\n",
    "            \"The attribute 'size' is deprecated. Use 'radius' instead.\",\n",
    "            DeprecationWarning)\n",
    "        return self.radius\n",
    "    \n",
    "    @property.setter\n",
    "    def size(self, val):\n",
    "        warnings.warn(\n",
    "            \"The attribute 'size' is deprecated. Use 'radius' instead.\",\n",
    "            DeprecationWarning)\n",
    "        self.radius = val"
   ]
  },
  {
   "cell_type": "markdown",
   "metadata": {
    "slideshow": {
     "slide_type": "slide"
    }
   },
   "source": [
    "## Renaming a global variable\n",
    "\n",
    "Python >= 3.7: [PEP-0562 -- Module __getattr__ and __dir__](https://www.python.org/dev/peps/pep-0562/)"
   ]
  },
  {
   "cell_type": "code",
   "execution_count": null,
   "metadata": {
    "slideshow": {
     "slide_type": "-"
    }
   },
   "outputs": [],
   "source": [
    "# lib.py\n",
    "\n",
    "_renamed_variables = {\"var\": \"new_var\"}\n",
    "\n",
    "new_var = 'value'\n",
    "\n",
    "def __getattr__(name):\n",
    "    new_name = _renamed_variables.get(name)\n",
    "    if new_name is not None:\n",
    "        warnings.warn(f\"{name} is deprecated. Use {new_name} instead.\",\n",
    "                      DeprecationWarning)\n",
    "        return globals()[new_name]\n",
    "    raise AttributeError(f\"module {__name__} has no attribute {name}\")"
   ]
  },
  {
   "cell_type": "code",
   "execution_count": null,
   "metadata": {
    "slideshow": {
     "slide_type": "-"
    }
   },
   "outputs": [],
   "source": [
    "# main.py\n",
    "\n",
    "import lib\n",
    "lib.old_name  # Works, but emits the warning"
   ]
  },
  {
   "cell_type": "markdown",
   "metadata": {
    "slideshow": {
     "slide_type": "-"
    }
   },
   "source": [
    "Python < 3.7: https://pypi.org/project/mprop/ (a lot more magic)"
   ]
  },
  {
   "cell_type": "markdown",
   "metadata": {
    "slideshow": {
     "slide_type": "slide"
    }
   },
   "source": [
    "## Renaming a parameter\n",
    "\n",
    "***Watch out for all supported call patterns***\n",
    "\n",
    "- positional parameters can be called using a keyword\n",
    "- parameters with a default can be called positionally"
   ]
  },
  {
   "cell_type": "code",
   "execution_count": null,
   "metadata": {
    "slideshow": {
     "slide_type": "-"
    }
   },
   "outputs": [],
   "source": [
    "def func(a, b_old, c=None):\n",
    "    print(b_old)"
   ]
  },
  {
   "cell_type": "code",
   "execution_count": null,
   "metadata": {
    "slideshow": {
     "slide_type": "-"
    }
   },
   "outputs": [],
   "source": [
    "def func(a, b, c=None):\n",
    "    print(b)"
   ]
  },
  {
   "cell_type": "code",
   "execution_count": null,
   "metadata": {
    "slideshow": {
     "slide_type": "-"
    }
   },
   "outputs": [],
   "source": [
    "func(1, 2)\n",
    "func(1, 2, c=3)\n",
    "\n",
    "\n",
    "func(1, b_old=2)\n",
    "func(1, 2, 3)"
   ]
  },
  {
   "cell_type": "markdown",
   "metadata": {
    "slideshow": {
     "slide_type": "slide"
    }
   },
   "source": [
    "## Renaming a parameter"
   ]
  },
  {
   "cell_type": "code",
   "execution_count": null,
   "metadata": {
    "slideshow": {
     "slide_type": "-"
    }
   },
   "outputs": [],
   "source": [
    "_Undef = object()\n",
    "\n",
    "def func(a, b=_Undef, c=None, *, b_old=_Undef):\n",
    "    if b_old is _Undef and b is _Undef:\n",
    "        raise TypeError(\"func() missing required positional argument: 'b'\")\n",
    "    elif b_old is not _Undef:\n",
    "        if b is not _Undef:\n",
    "            raise TypeError(\n",
    "                \"Parameter b replaces b_old in func(). Please remove b_old.\")\n",
    "        else:\n",
    "            warnings.warn(\n",
    "                'Parameter b_old is deprecated. Please use b instead.',\n",
    "                DeprecationWarning)\n",
    "            b = b_old\n",
    "    print(b)\n",
    "\n",
    "func(1, 2)\n",
    "func(1, b_old=2)\n",
    "func(1, b=2)\n",
    "func(1, 2, b_old=2)"
   ]
  },
  {
   "cell_type": "markdown",
   "metadata": {
    "slideshow": {
     "slide_type": "slide"
    }
   },
   "source": [
    "## Change of return values\n",
    "\n",
    "- **Control parameter**  \n",
    "  Example: [numpy.polyfit](https://docs.scipy.org/doc/numpy/reference/generated/numpy.polyfit.html?highlight=fit#numpy.polyfit)\n",
    "  \n",
    "      numpy.polyfit(..., full=False, ...)\n",
    "  \n",
    "          full : bool, optional\n",
    "              Switch determining nature of return value. When it is False\n",
    "              (the default) just the coefficients are returned, when True\n",
    "              diagnostic information from the singular value decomposition\n",
    "              is also returned.\n",
    "\n",
    "\n",
    "- **Complex return type**  if they are already there:  \n",
    "  `dict`, `dataclass`, (`namedtuple`)"
   ]
  },
  {
   "cell_type": "markdown",
   "metadata": {
    "slideshow": {
     "slide_type": "slide"
    }
   },
   "source": [
    "## Change of behavior\n",
    "\n",
    "No simple transition strategy. Often better to create a new function with a different name.\n",
    "\n",
    "~~~\n",
    "os.system()\n",
    "\n",
    "subprocess.call(), subprocess.check_call(), subprocess_check_output()\n",
    "\n",
    "subprocess.run()\n",
    "~~~\n",
    "\n",
    "Good transition documentation: [Replacing Older Functions with the subprocess Module](https://docs.python.org/3/library/subprocess.html#replacing-older-functions-with-the-subprocess-module)"
   ]
  },
  {
   "cell_type": "markdown",
   "metadata": {
    "slideshow": {
     "slide_type": "slide"
    }
   },
   "source": [
    "# Fancy stuff"
   ]
  },
  {
   "cell_type": "markdown",
   "metadata": {
    "slideshow": {
     "slide_type": "slide"
    }
   },
   "source": [
    "## Decorators for signature changes\n",
    "\n",
    "Implementation details: `matplotlib.cbook.deprecation`\n",
    "\n",
    "---\n",
    "\n",
    "**Deprecate a function or method**"
   ]
  },
  {
   "cell_type": "code",
   "execution_count": null,
   "metadata": {
    "slideshow": {
     "slide_type": "-"
    }
   },
   "outputs": [],
   "source": [
    "@deprecated(\"3.2\", alternative=\"os.path.expanduser('~')\")\n",
    "def get_home():\n",
    "    ..."
   ]
  },
  {
   "cell_type": "markdown",
   "metadata": {
    "slideshow": {
     "slide_type": "subslide"
    }
   },
   "source": [
    "**Rename a parameter**"
   ]
  },
  {
   "cell_type": "code",
   "execution_count": null,
   "metadata": {
    "slideshow": {
     "slide_type": "-"
    }
   },
   "outputs": [],
   "source": [
    "@_rename_parameter(\"3.1\", \"arg\", \"backend\")\n",
    "def use(backend, warn=False, force=True):"
   ]
  },
  {
   "cell_type": "markdown",
   "metadata": {
    "slideshow": {
     "slide_type": "-"
    }
   },
   "source": [
    "**Delete a parameter**    "
   ]
  },
  {
   "cell_type": "code",
   "execution_count": null,
   "metadata": {
    "slideshow": {
     "slide_type": "-"
    }
   },
   "outputs": [],
   "source": [
    "@_delete_parameter(\"3.2\", \"dryrun\")\n",
    "def print_jpg(self, filename_or_obj, *args, dryrun=False, ...):"
   ]
  },
  {
   "cell_type": "markdown",
   "metadata": {
    "slideshow": {
     "slide_type": "-"
    }
   },
   "source": [
    "**Change a parameter to keyword-only**"
   ]
  },
  {
   "cell_type": "code",
   "execution_count": null,
   "metadata": {
    "slideshow": {
     "slide_type": "-"
    }
   },
   "outputs": [],
   "source": [
    "@_make_keyword_only(\"3.2\", \"minor\")\n",
    "def set_xticks(self, ticks, minor=False):"
   ]
  },
  {
   "cell_type": "markdown",
   "metadata": {
    "slideshow": {
     "slide_type": "slide"
    }
   },
   "source": [
    "## Advanced: Migrating a complex method to a set of 'namespaced' methods\n",
    "\n",
    "Example: pandas [DataFrame.plot()](https://pandas.pydata.org/pandas-docs/version/0.23.4/generated/pandas.DataFrame.plot.html)\n",
    "\n",
    "- One single function with too much functionality\n",
    "  ~~~\n",
    "  df.plot(kind='line', ...)\n",
    "  df.plot(kind='bar', ...)\n",
    "  ...\n",
    "  ~~~\n",
    "\n",
    "- Separate methods: too verbose\n",
    "  ~~~\n",
    "  df.plot_line()\n",
    "  df.plot_bar()\n",
    "  ...\n",
    "  ~~~\n",
    "\n",
    "- Solution: Namespace for grouping\n",
    "  ~~~\n",
    "  df.plot.line()\n",
    "  df.plot.bar()\n",
    "  ...\n",
    "  ~~~"
   ]
  },
  {
   "cell_type": "markdown",
   "metadata": {
    "slideshow": {
     "slide_type": "slide"
    }
   },
   "source": [
    "### Can we have both simultaneously?\n",
    "\n",
    "~~~\n",
    "df.plot(kind='line')\n",
    "df.plot.line()\n",
    "~~~\n",
    "\n",
    "Yes, `df.plot` needs to be a namespace and callable:"
   ]
  },
  {
   "cell_type": "code",
   "execution_count": null,
   "metadata": {
    "slideshow": {
     "slide_type": "-"
    }
   },
   "outputs": [],
   "source": [
    "class PlotAccessor:\n",
    "    \n",
    "    def __call__(self, *args, kind='line', **kwargs):\n",
    "        if kind == 'line':\n",
    "            return self.line(*args, **kwargs)\n",
    "        \n",
    "    def line(self, x=None, y=None, **kwargs):\n",
    "        ...\n",
    "        \n",
    "\n",
    "class DataFrame:\n",
    "    \n",
    "    plot = PlotAccessor()"
   ]
  },
  {
   "cell_type": "markdown",
   "metadata": {
    "slideshow": {
     "slide_type": "slide"
    }
   },
   "source": [
    "## Expert: Change internal behavior using placeholder objects"
   ]
  },
  {
   "cell_type": "code",
   "execution_count": null,
   "metadata": {
    "slideshow": {
     "slide_type": "-"
    }
   },
   "outputs": [],
   "source": [
    "class Axis:\n",
    "    def __init__(self):\n",
    "        self.ticks = []\n",
    "        self.reset()\n",
    "        \n",
    "    def reset_ticks(self):\n",
    "        del self.ticks[:]\n",
    "        self.ticks.extend([self._get_tick()])"
   ]
  },
  {
   "cell_type": "markdown",
   "metadata": {
    "slideshow": {
     "slide_type": "-"
    }
   },
   "source": [
    "- `Axis.ticks` is a plain list.\n",
    "- It's populated with a default during `reset_ticks()`.\n",
    "- `reset_ticks()` is called many times when creating a figure with many subplots (*slow!*).\n",
    "- `ticks` and `reset_ticks` are public API.\n",
    "\n",
    "How to speed things up without breaking the public API?\n",
    "And without rewriting large parts of the figure creation logic?"
   ]
  },
  {
   "cell_type": "markdown",
   "metadata": {
    "slideshow": {
     "slide_type": "slide"
    }
   },
   "source": [
    "**Solution:** Use a cheap placeholder object that is lazily replaced by the list only when it is accessed.\n",
    "\n",
    "Perform an action when `axis.ticks` is queried."
   ]
  },
  {
   "cell_type": "code",
   "execution_count": null,
   "metadata": {
    "slideshow": {
     "slide_type": "-"
    }
   },
   "outputs": [],
   "source": [
    "class _LazyTickList:\n",
    "    \"\"\"A descriptor for lazy instantiation of tick lists.\"\"\"\n",
    "\n",
    "    def __get__(self, instance, cls):\n",
    "        if instance is None:\n",
    "            return self\n",
    "        else:\n",
    "            instance.ticks = [instance._get_tick()]\n",
    "            return instance.majorTicks\n",
    "\n",
    "        \n",
    "class Axis:\n",
    "    def __init__(self):\n",
    "        self.ticks = _LazyTickList()\n",
    "        self.reset_ticks()\n",
    "        \n",
    "    def reset_ticks(self):\n",
    "        try:\n",
    "            del self.ticks\n",
    "        except AttributeError:\n",
    "            pass"
   ]
  },
  {
   "cell_type": "markdown",
   "metadata": {
    "slideshow": {
     "slide_type": "-"
    }
   },
   "source": [
    "Github PR: [Alternate implementation of lazy ticks](https://github.com/matplotlib/matplotlib/pull/10302)"
   ]
  },
  {
   "cell_type": "markdown",
   "metadata": {
    "slideshow": {
     "slide_type": "slide"
    }
   },
   "source": [
    "# Summary\n",
    "\n",
    "- Prevent later changes\n",
    "  \n",
    "  - Limit the API footprint\n",
    "  \n",
    "  - Write good APIs from the beginning\n",
    "\n",
    "- Break the API gently\n",
    "\n",
    "  - Warn on future API changes\n",
    "  \n",
    "  - Provide a smooth transition path\n"
   ]
  }
 ],
 "metadata": {
  "celltoolbar": "Slideshow",
  "kernelspec": {
   "display_name": "Python 3",
   "language": "python",
   "name": "python3"
  },
  "language_info": {
   "codemirror_mode": {
    "name": "ipython",
    "version": 3
   },
   "file_extension": ".py",
   "mimetype": "text/x-python",
   "name": "python",
   "nbconvert_exporter": "python",
   "pygments_lexer": "ipython3",
   "version": "3.7.3"
  }
 },
 "nbformat": 4,
 "nbformat_minor": 4
}
